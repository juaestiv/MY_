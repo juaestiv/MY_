{
  "nbformat": 4,
  "nbformat_minor": 0,
  "metadata": {
    "colab": {
      "name": "BasicAppsync-TSVersion-Module1.ipynb",
      "provenance": [],
      "collapsed_sections": [],
      "authorship_tag": "ABX9TyO/w0qMWETpMStjUImw/AxK",
      "include_colab_link": true
    },
    "kernelspec": {
      "name": "python3",
      "display_name": "Python 3"
    }
  },
  "cells": [
    {
      "cell_type": "markdown",
      "metadata": {
        "id": "view-in-github",
        "colab_type": "text"
      },
      "source": [
        "<a href=\"https://colab.research.google.com/github/juaestiv/MY_/blob/master/BasicAppsync_TSVersion_Module1.ipynb\" target=\"_parent\"><img src=\"https://colab.research.google.com/assets/colab-badge.svg\" alt=\"Open In Colab\"/></a>"
      ]
    },
    {
      "cell_type": "markdown",
      "metadata": {
        "id": "mRNKdFFWLMeT"
      },
      "source": [
        "# Typescript application with basic appsync operations\n",
        "## Setting Up the environment.\n",
        ">On this doc we are going to assume that we already have Cognito confgured. \n",
        "\n",
        "Clone the following repo you can change **my_project** for whatever name you prefer. \n",
        "\n",
        "```bash\n",
        "git clone git@github.com:juaestiv/basic-mui-1.git my_project\n",
        "cd my_project\n",
        "npm install\n",
        "npm start\n",
        "```\n",
        "\n",
        "Once we have tested that it works type Control-C to abort\n",
        "Initialize amplify\n",
        "```bash\n",
        "$ amplify init\n",
        "amplify init\n",
        "Scanning for plugins...\n",
        "Plugin scan successful\n",
        "Note: It is recommended to run this command from the root of your app directory\n",
        "? Enter a name for the project myproject\n",
        "? Enter a name for the environment dev\n",
        "? Choose your default editor: Visual Studio Code\n",
        "? Choose the type of app that you're building javascript\n",
        "Please tell us about your project\n",
        "? What javascript framework are you using react\n",
        "? Source Directory Path:  src\n",
        "? Distribution Directory Path: build\n",
        "? Build Command:  npm run-script build\n",
        "? Start Command: npm run-script start\n",
        "Using default provider  awscloudformation\n",
        "For more information on AWS Profiles, see:\n",
        "https://docs.aws.amazon.com/cli/latest/userguide/cli-configure-profiles.html\n",
        "? Do you want to use an AWS profile? (Y/n) \n",
        "```\n",
        "\n",
        "If you have several profiles type Y and select it. Otherwise use Detault \n",
        "The the final output will be like this. \n",
        "```\n",
        "✔ Successfully created initial AWS cloud resources for deployments.\n",
        "✔ Initialized provider successfully.\n",
        "Initialized your environment successfully.\n",
        "\n",
        "Your project has been successfully initialized and connected to the cloud!\n",
        "\n",
        "Some next steps:\n",
        "\"amplify status\" will show you what you've added already and if it's locally configured or deployed\n",
        "\"amplify add <category>\" will allow you to add features like user login or a backend API\n",
        "\"amplify push\" will build all your local backend resources and provision it in the cloud\n",
        "\"amplify console\" to open the Amplify Console and view your project status\n",
        "\"amplify publish\" will build all your local backend and frontend resources (if you have hosting category added) and provision it in the cloud\n",
        "\n",
        "Pro tip:\n",
        "Try \"amplify add api\" to create a backend API and then \"amplify publish\" to deploy everything\n",
        "```\n",
        ">You can add a new cognito auth from here. In this case I am going to use an **existing cognito configuration**\n",
        "\n",
        "## Configuring\n",
        "\n",
        "\n",
        "\n"
      ]
    },
    {
      "cell_type": "code",
      "metadata": {
        "id": "MeK1lIhbLLKj"
      },
      "source": [
        ""
      ],
      "execution_count": null,
      "outputs": []
    }
  ]
}